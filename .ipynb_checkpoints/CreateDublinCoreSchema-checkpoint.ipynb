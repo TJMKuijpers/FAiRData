{
 "cells": [
  {
   "cell_type": "markdown",
   "metadata": {},
   "source": [
    "<h3> Create Dubin core metadata file </h3>"
   ]
  },
  {
   "cell_type": "markdown",
   "metadata": {},
   "source": [
    "This jupyter notebook guides you through the different steps to build a metadata document according to the Dublin core schema. "
   ]
  },
  {
   "cell_type": "markdown",
   "metadata": {},
   "source": [
    "For more information on the Dublin core schema, please visit: <a href='https://www.dublincore.org/'> Dublin core website </a>"
   ]
  },
  {
   "cell_type": "markdown",
   "metadata": {},
   "source": [
    "<h3> Create the required fields </h3>"
   ]
  },
  {
   "cell_type": "markdown",
   "metadata": {},
   "source": [
    "<b> Title </b><br>\n",
    "The element <i> Title </i> is the name given to the resource. Typically, a title will be the name by which the resource is known. "
   ]
  },
  {
   "cell_type": "code",
   "execution_count": 2,
   "metadata": {},
   "outputs": [
    {
     "name": "stdin",
     "output_type": "stream",
     "text": [
      "Set the title of the document: Tim Kuijpers\n"
     ]
    }
   ],
   "source": [
    "title_input=input('Set the title of the document:')"
   ]
  },
  {
   "cell_type": "markdown",
   "metadata": {},
   "source": [
    "<b> Creator </b> <br>\n",
    "The element <i> Creator </i> is the entity (person/insitute/service) responsile for making the content of the resource.\n"
   ]
  },
  {
   "cell_type": "code",
   "execution_count": 3,
   "metadata": {},
   "outputs": [
    {
     "name": "stdin",
     "output_type": "stream",
     "text": [
      "Set the creator of the document: Tim Kuijpers\n"
     ]
    }
   ],
   "source": [
    "creator_input=input('Set the creator of the document:')"
   ]
  },
  {
   "cell_type": "markdown",
   "metadata": {},
   "source": [
    "<b> Subject </b> <br>\n",
    "The element <i> Subject </i> descibes the topic of the content. Typically, a subject will be expressed as keywords or key phrases or classification codes that describe the topic of the resource."
   ]
  },
  {
   "cell_type": "code",
   "execution_count": 4,
   "metadata": {},
   "outputs": [
    {
     "name": "stdin",
     "output_type": "stream",
     "text": [
      "Set the subject of the document: Test file jupyter\n"
     ]
    }
   ],
   "source": [
    "subject_input=input('Set the subject of the document:')"
   ]
  },
  {
   "cell_type": "markdown",
   "metadata": {},
   "source": [
    "<b> Description </b><br>\n",
    "The element <i> description </i> describes the content of the resouce. A description may incude but is not limited to: an abstract, table of contents, reference to a graphical astract."
   ]
  },
  {
   "cell_type": "code",
   "execution_count": 17,
   "metadata": {},
   "outputs": [
    {
     "name": "stdin",
     "output_type": "stream",
     "text": [
      "Set the description of the content: THis is a picture of a bar in dublin taken in 2019 during the world cup final.\n"
     ]
    }
   ],
   "source": [
    "description_input=input('Set the description of the content:')"
   ]
  },
  {
   "cell_type": "markdown",
   "metadata": {},
   "source": [
    "<b> Publisher </b> <br>\n",
    "The element <i> Publisher </i> describes the entity responsible for making the resource available. Examples of a Publisher include a person, an organization, or a service. "
   ]
  },
  {
   "cell_type": "code",
   "execution_count": 8,
   "metadata": {},
   "outputs": [
    {
     "name": "stdin",
     "output_type": "stream",
     "text": [
      "Set the publisher: Tim Kuijpers\n"
     ]
    }
   ],
   "source": [
    "publisher_input=input('Set the publisher:')"
   ]
  },
  {
   "cell_type": "markdown",
   "metadata": {},
   "source": [
    "<b> Contributor </b><br>\n",
    "The element <i> Contributor </i> describes the entity responsible for making contributions to the content of the resource. Examples of a Contributor include a person, an organization or a service."
   ]
  },
  {
   "cell_type": "code",
   "execution_count": 9,
   "metadata": {},
   "outputs": [
    {
     "name": "stdin",
     "output_type": "stream",
     "text": [
      "Set the contributor: Tim Kuijpers, Internet\n"
     ]
    }
   ],
   "source": [
    "contributor_input=input('Set the contributor:')"
   ]
  },
  {
   "cell_type": "markdown",
   "metadata": {},
   "source": [
    "<b> Date </b><br>\n",
    "The element <i> Date </i> is the date associated with an event in the life cycle of the resource. Typically, the data will be associated with the creation or availability of the resource. <u> Recommended best practice is to use the format YYYY-MM-DD.</u>"
   ]
  },
  {
   "cell_type": "code",
   "execution_count": 10,
   "metadata": {},
   "outputs": [
    {
     "name": "stdin",
     "output_type": "stream",
     "text": [
      "Set the data (YYYY-MM-DD): 2022-02-09\n"
     ]
    }
   ],
   "source": [
    "date_input=input('Set the data (YYYY-MM-DD):')"
   ]
  },
  {
   "cell_type": "markdown",
   "metadata": {},
   "source": [
    "<b> Type </b> <br>\n",
    "The element <i> Type </i> describes the nature or genre of the content of the resource. Type includes terms describing general categories, functions, genres, or aggregation levels for content. For best practice select a value from a controlled vocabulary (see <a href='https://www.dublincore.org/documents/dcmi-type-vocabulary/'>DCMItype vocabulary</a>)"
   ]
  },
  {
   "cell_type": "code",
   "execution_count": 11,
   "metadata": {},
   "outputs": [
    {
     "name": "stdin",
     "output_type": "stream",
     "text": [
      "Set the type: image\n"
     ]
    }
   ],
   "source": [
    "type_input=input('Set the type:')"
   ]
  },
  {
   "cell_type": "markdown",
   "metadata": {},
   "source": [
    "<b> Format </b> <br>\n",
    "The element <i> format </i> described the physical or digital manifestation of the resource. Typically, Format may include the media-type or dimensions of the resource."
   ]
  },
  {
   "cell_type": "code",
   "execution_count": 12,
   "metadata": {},
   "outputs": [
    {
     "name": "stdin",
     "output_type": "stream",
     "text": [
      "Set the format 20 x 20 pixels\n"
     ]
    }
   ],
   "source": [
    "format_input=input('Set the format')"
   ]
  },
  {
   "cell_type": "markdown",
   "metadata": {},
   "source": [
    "<b> Identifier </b> <br>\n",
    "The element <i> Identifier </i> describes an unambiguous reference to the resource within a given context. Recommended best practice is to identify the resource by means of a string or number conforming to a formal identification system. Examples of formal identification systems include the Uniform Resource Identifier (URI) (including the Uniform Resource Locator (URL), the Digital Object Identifier (DOI) and the International Standard Book Number (ISBN)."
   ]
  },
  {
   "cell_type": "code",
   "execution_count": 14,
   "metadata": {},
   "outputs": [
    {
     "name": "stdin",
     "output_type": "stream",
     "text": [
      "Set the identifier: 10.1000/jskjfas\n"
     ]
    }
   ],
   "source": [
    "identifier_input=input('Set the identifier:')"
   ]
  },
  {
   "cell_type": "markdown",
   "metadata": {},
   "source": [
    "<b> Source </b> <br>\n",
    "The element <i> Source </i> is a reference to a resource from which the present resource is derived. The present resource may be derived from the Source resource in whole or part. Recommended best practice is to reference the resource by means of a string or number conforming to a formal identification system."
   ]
  },
  {
   "cell_type": "code",
   "execution_count": 15,
   "metadata": {},
   "outputs": [
    {
     "name": "stdin",
     "output_type": "stream",
     "text": [
      "Set the source: image on page 54 of Dublin: a weekend trip\n"
     ]
    }
   ],
   "source": [
    "source_input=input('Set the source:')"
   ]
  },
  {
   "cell_type": "markdown",
   "metadata": {},
   "source": [
    "<b> Language </b> <br>\n",
    "The element <i> Language </i> describes the language of the intellectual content of the resource. Recommended best practice for the values of the Language element is defined by <a href='http://www.ietf.org/rfc/ rfc3066.txt'>RFC 3066</a>, which in conjuction with <a href='http://www.oasis- open.org/cover/iso639a.html'>ISO 639 </a> defines two- and three-letter primary language tags. For example, 'en' or 'eng' for English, 'en-GB' for English used in the United Kingdom. or 'en-US' for English used in the United States of America."
   ]
  },
  {
   "cell_type": "code",
   "execution_count": 16,
   "metadata": {},
   "outputs": [
    {
     "name": "stdin",
     "output_type": "stream",
     "text": [
      "Set the language: eng\n"
     ]
    }
   ],
   "source": [
    "language_input=input('Set the language:')"
   ]
  },
  {
   "cell_type": "markdown",
   "metadata": {},
   "source": [
    "<b> Relation </b><br>\n",
    "The element <i> Relation </i> describes a reference to a related resource. Recommended best practice is to reference the resource by means of a string or number conforming to a formal identification system."
   ]
  },
  {
   "cell_type": "code",
   "execution_count": 18,
   "metadata": {},
   "outputs": [
    {
     "name": "stdin",
     "output_type": "stream",
     "text": [
      "Set the Relation: Unknown\n"
     ]
    }
   ],
   "source": [
    "relation_input=input('Set the Relation:')"
   ]
  },
  {
   "cell_type": "markdown",
   "metadata": {},
   "source": [
    "<b> Coverage </b> <br>"
   ]
  },
  {
   "cell_type": "markdown",
   "metadata": {},
   "source": [
    "<b> Rights </b> <br>"
   ]
  },
  {
   "cell_type": "code",
   "execution_count": null,
   "metadata": {},
   "outputs": [],
   "source": []
  }
 ],
 "metadata": {
  "kernelspec": {
   "display_name": "Python 3",
   "language": "python",
   "name": "python3"
  },
  "language_info": {
   "codemirror_mode": {
    "name": "ipython",
    "version": 3
   },
   "file_extension": ".py",
   "mimetype": "text/x-python",
   "name": "python",
   "nbconvert_exporter": "python",
   "pygments_lexer": "ipython3",
   "version": "3.8.5"
  }
 },
 "nbformat": 4,
 "nbformat_minor": 4
}
